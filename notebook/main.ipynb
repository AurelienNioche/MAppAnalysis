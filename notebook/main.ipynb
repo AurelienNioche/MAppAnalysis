{
 "cells": [
  {
   "cell_type": "code",
   "execution_count": 76,
   "id": "initial_id",
   "metadata": {
    "collapsed": true,
    "ExecuteTime": {
     "end_time": "2023-10-04T17:19:54.540595Z",
     "start_time": "2023-10-04T17:19:54.511274Z"
    }
   },
   "outputs": [
    {
     "name": "stdout",
     "output_type": "stream",
     "text": [
      "The autoreload extension is already loaded. To reload it, use:\n",
      "  %reload_ext autoreload\n"
     ]
    }
   ],
   "source": [
    "%config InlineBackend.figure_format='retina'\n",
    "%matplotlib inline\n",
    "%load_ext autoreload\n",
    "%autoreload 2"
   ]
  },
  {
   "cell_type": "code",
   "execution_count": 77,
   "outputs": [],
   "source": [
    "import numpy as np\n",
    "import matplotlib.pyplot as plt\n",
    "from scipy import signal, interpolate\n",
    "from glob import glob\n",
    "import pandas as pd\n",
    "from datetime import datetime, time"
   ],
   "metadata": {
    "collapsed": false,
    "ExecuteTime": {
     "end_time": "2023-10-04T17:19:54.758105Z",
     "start_time": "2023-10-04T17:19:54.744595Z"
    }
   },
   "id": "9a342c2c3121d072"
  },
  {
   "cell_type": "code",
   "execution_count": 78,
   "outputs": [],
   "source": [
    "from data.subjects_to_keep import subjects_to_keep as users\n",
    "from data.data_path import data_path\n",
    "\n",
    "from plot import plot"
   ],
   "metadata": {
    "collapsed": false,
    "ExecuteTime": {
     "end_time": "2023-10-04T17:19:54.976371Z",
     "start_time": "2023-10-04T17:19:54.966020Z"
    }
   },
   "id": "c335636ce9c0cbf7"
  },
  {
   "cell_type": "code",
   "execution_count": 79,
   "outputs": [],
   "source": [
    "u =  users[0] #\"11KD\" #\"09AU\"  \"11KD\"\n",
    "file = glob(f\"{data_path}/dump_latest/{u}_activity*.csv\")[0]\n",
    "#     print(f\"Found the file `{file}`\")\n",
    "\n",
    "df = pd.read_csv(file, index_col=0)\n",
    "df.dt = pd.to_datetime(df.dt, utc=False, format='ISO8601')\n",
    "df.dt = df.dt.dt.tz_convert('Europe/London')"
   ],
   "metadata": {
    "collapsed": false,
    "ExecuteTime": {
     "end_time": "2023-10-04T17:19:55.614050Z",
     "start_time": "2023-10-04T17:19:55.240304Z"
    }
   },
   "id": "1ecd4057b7754195"
  },
  {
   "cell_type": "code",
   "execution_count": 80,
   "outputs": [
    {
     "data": {
      "text/plain": "   user     id                               dt  \\\n0  02MY  59488 2023-06-26 15:20:13.635000+01:00   \n\n                      dt_last_boot  step_last_boot  step_midnight  \n0  2023-06-26 06:19:41.489000+0000             404              0  ",
      "text/html": "<div>\n<style scoped>\n    .dataframe tbody tr th:only-of-type {\n        vertical-align: middle;\n    }\n\n    .dataframe tbody tr th {\n        vertical-align: top;\n    }\n\n    .dataframe thead th {\n        text-align: right;\n    }\n</style>\n<table border=\"1\" class=\"dataframe\">\n  <thead>\n    <tr style=\"text-align: right;\">\n      <th></th>\n      <th>user</th>\n      <th>id</th>\n      <th>dt</th>\n      <th>dt_last_boot</th>\n      <th>step_last_boot</th>\n      <th>step_midnight</th>\n    </tr>\n  </thead>\n  <tbody>\n    <tr>\n      <th>0</th>\n      <td>02MY</td>\n      <td>59488</td>\n      <td>2023-06-26 15:20:13.635000+01:00</td>\n      <td>2023-06-26 06:19:41.489000+0000</td>\n      <td>404</td>\n      <td>0</td>\n    </tr>\n  </tbody>\n</table>\n</div>"
     },
     "execution_count": 80,
     "metadata": {},
     "output_type": "execute_result"
    }
   ],
   "source": [
    "df.head(1)"
   ],
   "metadata": {
    "collapsed": false,
    "ExecuteTime": {
     "end_time": "2023-10-04T17:19:55.628241Z",
     "start_time": "2023-10-04T17:19:55.614517Z"
    }
   },
   "id": "19b6878110cce8c7"
  },
  {
   "cell_type": "code",
   "execution_count": 81,
   "outputs": [],
   "source": [
    "min_date = df.dt.min().date()\n",
    "days = np.asarray([(dt.date() - min_date).days for dt in df.dt])"
   ],
   "metadata": {
    "collapsed": false,
    "ExecuteTime": {
     "end_time": "2023-10-04T17:19:56.095315Z",
     "start_time": "2023-10-04T17:19:56.013031Z"
    }
   },
   "id": "619ccf9d01f7f030"
  },
  {
   "cell_type": "code",
   "execution_count": 82,
   "outputs": [],
   "source": [
    "all_timestep = (np.asarray([(dt - datetime.combine(dt, time.min, dt.tz)).total_seconds() \n",
    "                       for dt in df.dt]) \n",
    "            / 86400)"
   ],
   "metadata": {
    "collapsed": false,
    "ExecuteTime": {
     "end_time": "2023-10-04T17:19:57.000864Z",
     "start_time": "2023-10-04T17:19:56.458985Z"
    }
   },
   "id": "4614532346cc06de"
  },
  {
   "cell_type": "code",
   "execution_count": 83,
   "outputs": [
    {
     "data": {
      "text/plain": "(0.04578157407407407, 0.9863385995370371)"
     },
     "execution_count": 83,
     "metadata": {},
     "output_type": "execute_result"
    }
   ],
   "source": [
    "np.min(all_timestep), np.max(all_timestep)"
   ],
   "metadata": {
    "collapsed": false,
    "ExecuteTime": {
     "end_time": "2023-10-04T17:19:57.015522Z",
     "start_time": "2023-10-04T17:19:57.001591Z"
    }
   },
   "id": "6fc04be3f921fbe7"
  },
  {
   "cell_type": "code",
   "execution_count": 84,
   "outputs": [],
   "source": [
    "all_pos = df.step_midnight.values"
   ],
   "metadata": {
    "collapsed": false,
    "ExecuteTime": {
     "end_time": "2023-10-04T17:19:57.040794Z",
     "start_time": "2023-10-04T17:19:57.016665Z"
    }
   },
   "id": "4291dc86b5d7d13e"
  },
  {
   "cell_type": "code",
   "execution_count": 127,
   "outputs": [],
   "source": [
    "position = np.linspace(0, 7000, 10)\n",
    "velocity = np.linspace(-50000, 5000, 10)"
   ],
   "metadata": {
    "collapsed": false,
    "ExecuteTime": {
     "end_time": "2023-10-04T18:07:28.182274Z",
     "start_time": "2023-10-04T18:07:28.166463Z"
    }
   },
   "id": "6c07a54f3cccaff2"
  },
  {
   "cell_type": "code",
   "execution_count": 128,
   "outputs": [],
   "source": [
    "uniq_days = np.unique(days)"
   ],
   "metadata": {
    "collapsed": false,
    "ExecuteTime": {
     "end_time": "2023-10-04T18:07:28.590786Z",
     "start_time": "2023-10-04T18:07:28.578819Z"
    }
   },
   "id": "3cd35a52d8c1d0f0"
  },
  {
   "cell_type": "code",
   "execution_count": 129,
   "outputs": [],
   "source": [
    "timestep_new = np.linspace(0, 1, 10)\n",
    "dt = timestep_new[1] - timestep_new[0]"
   ],
   "metadata": {
    "collapsed": false,
    "ExecuteTime": {
     "end_time": "2023-10-04T18:07:28.961144Z",
     "start_time": "2023-10-04T18:07:28.947933Z"
    }
   },
   "id": "391c06567e9d3f39"
  },
  {
   "cell_type": "code",
   "execution_count": 130,
   "outputs": [],
   "source": [
    "n_timestep = timestep_new.size\n",
    "n_position = position.size\n",
    "n_velocity = velocity.size"
   ],
   "metadata": {
    "collapsed": false,
    "ExecuteTime": {
     "end_time": "2023-10-04T18:07:29.322213Z",
     "start_time": "2023-10-04T18:07:29.311598Z"
    }
   },
   "id": "cb2cfd225fcd9027"
  },
  {
   "cell_type": "code",
   "execution_count": 131,
   "outputs": [],
   "source": [
    "alpha_tpvv = np.zeros((n_timestep, n_position, n_velocity, n_velocity))"
   ],
   "metadata": {
    "collapsed": false,
    "ExecuteTime": {
     "end_time": "2023-10-04T18:07:29.669287Z",
     "start_time": "2023-10-04T18:07:29.658833Z"
    }
   },
   "id": "5a4c70ca48edfe0a"
  },
  {
   "cell_type": "code",
   "execution_count": 131,
   "outputs": [],
   "source": [],
   "metadata": {
    "collapsed": false,
    "ExecuteTime": {
     "end_time": "2023-10-04T18:07:29.998333Z",
     "start_time": "2023-10-04T18:07:29.993905Z"
    }
   },
   "id": "4f5ae68453667d54"
  },
  {
   "cell_type": "code",
   "execution_count": 132,
   "outputs": [
    {
     "name": "stdout",
     "output_type": "stream",
     "text": [
      "0.0, 42062.4\n",
      "0.0, 51489.3\n",
      "0.0, 53778.3\n",
      "0.0, 68587.8\n",
      "0.0, 44034.8\n",
      "0.0, 68305.8\n",
      "769.8, 34660.1\n",
      "8.7, 56017.0\n",
      "0.0, 42932.5\n",
      "0.0, 61324.0\n",
      "0.0, 54498.0\n",
      "0.0, 44526.8\n",
      "0.0, 55947.0\n",
      "0.0, 61442.0\n",
      "0.0, 29163.0\n",
      "0.0, 66996.0\n",
      "0.0, 83272.1\n",
      "0.0, 76381.2\n",
      "0.0, 66861.0\n"
     ]
    }
   ],
   "source": [
    "for day in uniq_days:\n",
    "    is_day = days == day\n",
    "    timestep, pos = all_timestep[is_day], all_pos[is_day]\n",
    "    f = interpolate.interp1d(timestep, pos, kind=\"linear\")\n",
    "\n",
    "    pos_new = np.zeros_like(timestep_new)\n",
    "    can_be_interpolated = (timestep_new >= timestep.min()) * (timestep_new <= timestep.max())\n",
    "    pos_new[can_be_interpolated] = f(timestep_new[can_be_interpolated])\n",
    "    pos_new[timestep_new < timestep.min()] = 0\n",
    "    pos_new[timestep_new > timestep.max()] = pos.max()\n",
    "    \n",
    "    # Compute the diff\n",
    "    y_diff = np.diff(pos_new) / dt\n",
    "    x_diff = pos_new[:-1]  # Forward approximation\n",
    "    \n",
    "    print(f\"{y_diff.min():.1f}, {y_diff.max():.1f}\")\n",
    "\n",
    "    # Discretize ------------------\n",
    "    \n",
    "    bins = list(velocity) + [np.inf]\n",
    "    v_indexes = np.digitize(y_diff, bins, right=False) - 1\n",
    "    # print(f\"len bins {len(bins)} min v idx {min(v_indexes)}, max v idx {max(v_indexes)}\")\n",
    "    \n",
    "    bins = list(position) + [np.inf]\n",
    "    p_indexes = np.digitize(pos_new, bins, right=False) - 1\n",
    "    \n",
    "    n = len(v_indexes) - 1\n",
    "    \n",
    "    # density = hist / np.sum(hist)\n",
    "    for i in range(n):\n",
    "        p = p_indexes[i]\n",
    "        v = v_indexes[i]\n",
    "        v_prime = v_indexes[i + 1]\n",
    "        alpha_tpvv[i, p, v, v_prime] += 1\n"
   ],
   "metadata": {
    "collapsed": false,
    "ExecuteTime": {
     "end_time": "2023-10-04T18:07:30.341534Z",
     "start_time": "2023-10-04T18:07:30.324224Z"
    }
   },
   "id": "3143bb8d7f9d40b0"
  },
  {
   "cell_type": "code",
   "execution_count": 133,
   "outputs": [
    {
     "data": {
      "text/plain": "<Figure size 600x400 with 100 Axes>",
      "image/png": "[encoded data removed]"
     },
     "metadata": {
      "image/png": {
       "width": 484,
       "height": 328
      }
     },
     "output_type": "display_data"
    }
   ],
   "source": [
    "fig, axes = plt.subplots(\n",
    "                nrows=n_position,\n",
    "                ncols=n_timestep,\n",
    "                figsize=(6, 4))\n",
    "for t_idx in range(n_timestep):\n",
    "    for p_idx in range(n_position):\n",
    "        ax = axes[p_idx, t_idx]\n",
    "        img = alpha_tpvv[t_idx, p_idx, :, :]\n",
    "        ax.imshow(img, aspect=\"auto\")\n",
    "        ax.get_xaxis().set_ticks([])\n",
    "        ax.axes.get_yaxis().set_ticks([])\n",
    "plt.show()"
   ],
   "metadata": {
    "collapsed": false,
    "ExecuteTime": {
     "end_time": "2023-10-04T18:07:32.301740Z",
     "start_time": "2023-10-04T18:07:31.125895Z"
    }
   },
   "id": "441941b485500079"
  },
  {
   "cell_type": "code",
   "execution_count": null,
   "outputs": [],
   "source": [],
   "metadata": {
    "collapsed": false
   },
   "id": "e0bb48c9cdd05b4c"
  }
 ],
 "metadata": {
  "kernelspec": {
   "display_name": "Python 3",
   "language": "python",
   "name": "python3"
  },
  "language_info": {
   "codemirror_mode": {
    "name": "ipython",
    "version": 2
   },
   "file_extension": ".py",
   "mimetype": "text/x-python",
   "name": "python",
   "nbconvert_exporter": "python",
   "pygments_lexer": "ipython2",
   "version": "2.7.6"
  }
 },
 "nbformat": 4,
 "nbformat_minor": 5
}
