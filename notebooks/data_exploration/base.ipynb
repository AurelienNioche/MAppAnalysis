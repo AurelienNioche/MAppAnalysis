{
 "cells": [
  {
   "cell_type": "code",
   "execution_count": 1,
   "outputs": [],
   "source": [
    "from glob import glob\n",
    "import pandas as pd\n",
    "from data.subjects_to_keep import subjects_to_keep as users\n",
    "from data.data_path import data_path"
   ],
   "metadata": {
    "collapsed": false,
    "ExecuteTime": {
     "end_time": "2023-10-27T10:59:16.660828Z",
     "start_time": "2023-10-27T10:59:16.657584Z"
    }
   },
   "id": "f4173d3e86e17165"
  },
  {
   "cell_type": "code",
   "execution_count": 4,
   "outputs": [
    {
     "data": {
      "text/plain": "   user      id                               dt  \\\n0  02MY   59488  2023-06-26 14:20:13.635000+0000   \n1  02MY  212932  2023-06-26 16:48:14.761000+0000   \n2  02MY  212933  2023-06-26 16:48:15.230000+0000   \n3  02MY  212934  2023-06-26 16:48:15.950000+0000   \n4  02MY  212935  2023-06-26 16:48:16.510000+0000   \n\n                      dt_last_boot  step_last_boot  step_midnight  \n0  2023-06-26 06:19:41.489000+0000             404              0  \n1  2023-06-26 06:19:41.489000+0000             411              7  \n2  2023-06-26 06:19:41.489000+0000             412              8  \n3  2023-06-26 06:19:41.488000+0000             413              9  \n4  2023-06-26 06:19:41.489000+0000             414             10  ",
      "text/html": "<div>\n<style scoped>\n    .dataframe tbody tr th:only-of-type {\n        vertical-align: middle;\n    }\n\n    .dataframe tbody tr th {\n        vertical-align: top;\n    }\n\n    .dataframe thead th {\n        text-align: right;\n    }\n</style>\n<table border=\"1\" class=\"dataframe\">\n  <thead>\n    <tr style=\"text-align: right;\">\n      <th></th>\n      <th>user</th>\n      <th>id</th>\n      <th>dt</th>\n      <th>dt_last_boot</th>\n      <th>step_last_boot</th>\n      <th>step_midnight</th>\n    </tr>\n  </thead>\n  <tbody>\n    <tr>\n      <th>0</th>\n      <td>02MY</td>\n      <td>59488</td>\n      <td>2023-06-26 14:20:13.635000+0000</td>\n      <td>2023-06-26 06:19:41.489000+0000</td>\n      <td>404</td>\n      <td>0</td>\n    </tr>\n    <tr>\n      <th>1</th>\n      <td>02MY</td>\n      <td>212932</td>\n      <td>2023-06-26 16:48:14.761000+0000</td>\n      <td>2023-06-26 06:19:41.489000+0000</td>\n      <td>411</td>\n      <td>7</td>\n    </tr>\n    <tr>\n      <th>2</th>\n      <td>02MY</td>\n      <td>212933</td>\n      <td>2023-06-26 16:48:15.230000+0000</td>\n      <td>2023-06-26 06:19:41.489000+0000</td>\n      <td>412</td>\n      <td>8</td>\n    </tr>\n    <tr>\n      <th>3</th>\n      <td>02MY</td>\n      <td>212934</td>\n      <td>2023-06-26 16:48:15.950000+0000</td>\n      <td>2023-06-26 06:19:41.488000+0000</td>\n      <td>413</td>\n      <td>9</td>\n    </tr>\n    <tr>\n      <th>4</th>\n      <td>02MY</td>\n      <td>212935</td>\n      <td>2023-06-26 16:48:16.510000+0000</td>\n      <td>2023-06-26 06:19:41.489000+0000</td>\n      <td>414</td>\n      <td>10</td>\n    </tr>\n  </tbody>\n</table>\n</div>"
     },
     "execution_count": 4,
     "metadata": {},
     "output_type": "execute_result"
    }
   ],
   "source": [
    "u = users[0]\n",
    "file = glob(f\"{data_path}/dump_latest/{u}_activity*.csv\")[0]\n",
    "\n",
    "df = pd.read_csv(file, index_col=0)\n",
    "df.head()"
   ],
   "metadata": {
    "collapsed": false,
    "ExecuteTime": {
     "end_time": "2023-10-27T10:59:47.149746Z",
     "start_time": "2023-10-27T10:59:47.034162Z"
    }
   },
   "id": "initial_id"
  },
  {
   "cell_type": "code",
   "execution_count": null,
   "outputs": [],
   "source": [],
   "metadata": {
    "collapsed": false
   },
   "id": "39c2ba7679cd1cf1"
  }
 ],
 "metadata": {
  "kernelspec": {
   "display_name": "Python 3",
   "language": "python",
   "name": "python3"
  },
  "language_info": {
   "codemirror_mode": {
    "name": "ipython",
    "version": 2
   },
   "file_extension": ".py",
   "mimetype": "text/x-python",
   "name": "python",
   "nbconvert_exporter": "python",
   "pygments_lexer": "ipython2",
   "version": "2.7.6"
  }
 },
 "nbformat": 4,
 "nbformat_minor": 5
}
